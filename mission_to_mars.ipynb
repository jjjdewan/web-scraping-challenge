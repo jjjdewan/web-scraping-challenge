{
 "cells": [
  {
   "cell_type": "markdown",
   "metadata": {},
   "source": [
    "#  Step-1: Scraping: Mission to Mars"
   ]
  },
  {
   "cell_type": "code",
   "execution_count": 53,
   "metadata": {},
   "outputs": [],
   "source": [
    "# Set Dependencies \n",
    "from bs4 import BeautifulSoup\n",
    "from splinter import Browser\n",
    "import pandas as pd\n",
    "import requests"
   ]
  },
  {
   "cell_type": "code",
   "execution_count": 54,
   "metadata": {},
   "outputs": [],
   "source": [
    "#  Set executable path for chromedeiver (using Macbook Air)\n",
    "executable_path = {\"executable_path\": \"/usr/local/bin/chromedriver\"}\n",
    "browser = Browser(\"chrome\", **executable_path, headless=False)"
   ]
  },
  {
   "cell_type": "markdown",
   "metadata": {},
   "source": [
    "# NASA Mars News"
   ]
  },
  {
   "cell_type": "code",
   "execution_count": 55,
   "metadata": {},
   "outputs": [],
   "source": [
    "# Go to NASA news site \n",
    "url = 'https://mars.nasa.gov/news/'\n",
    "browser.visit(url)"
   ]
  },
  {
   "cell_type": "code",
   "execution_count": 56,
   "metadata": {},
   "outputs": [
    {
     "name": "stdout",
     "output_type": "stream",
     "text": [
      "Independent Review Indicates NASA Prepared for Mars Sample Return Campaign\n",
      "NASA released an independent review report Tuesday indicating the agency is well positioned for its Mars Sample Return campaign to bring pristine samples from Mars to Earth for scientific study.\n"
     ]
    }
   ],
   "source": [
    "##############################################\n",
    "# Web Scapping \n",
    "##############################################\n",
    "\n",
    "# define html object\n",
    "html = browser.html\n",
    "\n",
    "# Parsing html using Beautiful Soup\n",
    "news_soup = BeautifulSoup(html, 'html.parser')\n",
    "\n",
    "\n",
    "# Colllect latest news title and news_paragraph from NASA site\n",
    "#\n",
    "article = news_soup.find(\"div\", class_='list_text')\n",
    "news_title = article.find(\"div\", class_=\"content_title\").text\n",
    "news_para = article.find(\"div\", class_ =\"article_teaser_body\").text\n",
    "\n",
    "# Display scrapped data \n",
    "print(news_title)\n",
    "print(news_para)"
   ]
  },
  {
   "cell_type": "markdown",
   "metadata": {},
   "source": [
    "# JPL Mars Space Images - Featured Image"
   ]
  },
  {
   "cell_type": "code",
   "execution_count": 57,
   "metadata": {},
   "outputs": [],
   "source": [
    "# Visit Mars Space Images through splinter module\n",
    "image_url_featured = 'https://www.jpl.nasa.gov/spaceimages/?search=&category=Mars'\n",
    "browser.visit(image_url_featured)"
   ]
  },
  {
   "cell_type": "code",
   "execution_count": 58,
   "metadata": {},
   "outputs": [
    {
     "name": "stdout",
     "output_type": "stream",
     "text": [
      "Featured image title is:Triple Crescents\n",
      "Featured image url is:https://www.jpl.nasa.gov/spaceimages/images/wallpaper/PIA18322-1920x1200.jpg\n"
     ]
    }
   ],
   "source": [
    "# create HTML object for image \n",
    "html_image = browser.html\n",
    "\n",
    "# Parse HTML using BeautifulSoup() func\n",
    "#\n",
    "jpl_soup = BeautifulSoup(html_image, 'html.parser')\n",
    "\n",
    "# Find background-image url from style tag \n",
    "featured_image_url  =jpl_soup.find('article')['style'].replace('background-image: url(','').replace(');', '')[1:-1]\n",
    "\n",
    "# NASA JPL Url \n",
    "index_url = 'https://www.jpl.nasa.gov'\n",
    "\n",
    "# Concatenate website NASA JPL url with scrapped url for image\n",
    "#\n",
    "featured_image_url = index_url + featured_image_url\n",
    "\n",
    "featured_image_title = jpl_soup.find('h1', class_=\"media_feature_title\").text.strip()\n",
    "\n",
    "# Show complete url string for this image: featured_image_url\n",
    "print(f'Featured image title is:{featured_image_title}')\n",
    "print(f'Featured image url is:{featured_image_url}')\n"
   ]
  },
  {
   "cell_type": "markdown",
   "metadata": {},
   "source": [
    "# Mars Facts"
   ]
  },
  {
   "cell_type": "code",
   "execution_count": 59,
   "metadata": {},
   "outputs": [],
   "source": [
    "# Visit Mars facts web site\n",
    "#\n",
    "mars_facts_url = 'http://space-facts.com/mars/'\n",
    "browser.visit(mars_facts_url)\n"
   ]
  },
  {
   "cell_type": "code",
   "execution_count": 61,
   "metadata": {},
   "outputs": [
    {
     "data": {
      "text/html": [
       "<div>\n",
       "<style scoped>\n",
       "    .dataframe tbody tr th:only-of-type {\n",
       "        vertical-align: middle;\n",
       "    }\n",
       "\n",
       "    .dataframe tbody tr th {\n",
       "        vertical-align: top;\n",
       "    }\n",
       "\n",
       "    .dataframe thead th {\n",
       "        text-align: right;\n",
       "    }\n",
       "</style>\n",
       "<table border=\"1\" class=\"dataframe\">\n",
       "  <thead>\n",
       "    <tr style=\"text-align: right;\">\n",
       "      <th></th>\n",
       "      <th>Value</th>\n",
       "    </tr>\n",
       "    <tr>\n",
       "      <th>Description</th>\n",
       "      <th></th>\n",
       "    </tr>\n",
       "  </thead>\n",
       "  <tbody>\n",
       "    <tr>\n",
       "      <th>Equatorial Diameter:</th>\n",
       "      <td>6,792 km</td>\n",
       "    </tr>\n",
       "    <tr>\n",
       "      <th>Polar Diameter:</th>\n",
       "      <td>6,752 km</td>\n",
       "    </tr>\n",
       "    <tr>\n",
       "      <th>Mass:</th>\n",
       "      <td>6.39 × 10^23 kg (0.11 Earths)</td>\n",
       "    </tr>\n",
       "    <tr>\n",
       "      <th>Moons:</th>\n",
       "      <td>2 (Phobos &amp; Deimos)</td>\n",
       "    </tr>\n",
       "    <tr>\n",
       "      <th>Orbit Distance:</th>\n",
       "      <td>227,943,824 km (1.38 AU)</td>\n",
       "    </tr>\n",
       "    <tr>\n",
       "      <th>Orbit Period:</th>\n",
       "      <td>687 days (1.9 years)</td>\n",
       "    </tr>\n",
       "    <tr>\n",
       "      <th>Surface Temperature:</th>\n",
       "      <td>-87 to -5 °C</td>\n",
       "    </tr>\n",
       "    <tr>\n",
       "      <th>First Record:</th>\n",
       "      <td>2nd millennium BC</td>\n",
       "    </tr>\n",
       "    <tr>\n",
       "      <th>Recorded By:</th>\n",
       "      <td>Egyptian astronomers</td>\n",
       "    </tr>\n",
       "  </tbody>\n",
       "</table>\n",
       "</div>"
      ],
      "text/plain": [
       "                                              Value\n",
       "Description                                        \n",
       "Equatorial Diameter:                       6,792 km\n",
       "Polar Diameter:                            6,752 km\n",
       "Mass:                 6.39 × 10^23 kg (0.11 Earths)\n",
       "Moons:                          2 (Phobos & Deimos)\n",
       "Orbit Distance:            227,943,824 km (1.38 AU)\n",
       "Orbit Period:                  687 days (1.9 years)\n",
       "Surface Temperature:                   -87 to -5 °C\n",
       "First Record:                     2nd millennium BC\n",
       "Recorded By:                   Egyptian astronomers"
      ]
     },
     "execution_count": 61,
     "metadata": {},
     "output_type": "execute_result"
    }
   ],
   "source": [
    "\n",
    "# Using pandas function read_html() to parse the url\n",
    "mars_facts = pd.read_html(mars_facts_url)\n",
    "\n",
    "# Create pandas dataframe on mars facts \n",
    "mars_facts_df = mars_facts[0]\n",
    "\n",
    "# Assign the columns with 'Description' and 'Value'\n",
    "#\n",
    "mars_facts_df.columns = ['Description','Value']\n",
    "\n",
    "# Set the index with `Description` column \n",
    "mars_facts_df.set_index('Description', inplace=True)\n",
    "\n",
    "# Convert dataframe to html \n",
    "#mars_facts_df.to_html()\n",
    "mars_fact_html = mars_facts_df.to_html(header=False, index=False)\n",
    "\n",
    "# Show dataframe table on Mars Facts:\n",
    "mars_facts_df"
   ]
  },
  {
   "cell_type": "markdown",
   "metadata": {},
   "source": [
    "# Mars Hemispheres"
   ]
  },
  {
   "cell_type": "code",
   "execution_count": 39,
   "metadata": {},
   "outputs": [],
   "source": [
    "# Visit USGS Astrogeology site to get high resolution images for Mars Hemisphere\n",
    "#\n",
    "hemispheres_url = 'https://astrogeology.usgs.gov/search/results?q=hemisphere+enhanced&k1=target&v1=Mars'\n",
    "browser.visit(hemispheres_url)"
   ]
  },
  {
   "cell_type": "code",
   "execution_count": 40,
   "metadata": {},
   "outputs": [
    {
     "data": {
      "text/plain": [
       "[{'title': 'Cerberus Hemisphere Enhanced',\n",
       "  'img_url': 'https://astrogeology.usgs.gov/cache/images/f5e372a36edfa389625da6d0cc25d905_cerberus_enhanced.tif_full.jpg'},\n",
       " {'title': 'Schiaparelli Hemisphere Enhanced',\n",
       "  'img_url': 'https://astrogeology.usgs.gov/cache/images/3778f7b43bbbc89d6e3cfabb3613ba93_schiaparelli_enhanced.tif_full.jpg'},\n",
       " {'title': 'Syrtis Major Hemisphere Enhanced',\n",
       "  'img_url': 'https://astrogeology.usgs.gov/cache/images/555e6403a6ddd7ba16ddb0e471cadcf7_syrtis_major_enhanced.tif_full.jpg'},\n",
       " {'title': 'Valles Marineris Hemisphere Enhanced',\n",
       "  'img_url': 'https://astrogeology.usgs.gov/cache/images/b3c7c6c9138f57b4756be9b9c43e3a48_valles_marineris_enhanced.tif_full.jpg'}]"
      ]
     },
     "execution_count": 40,
     "metadata": {},
     "output_type": "execute_result"
    }
   ],
   "source": [
    "# Set html browser Object\n",
    "#\n",
    "hemispheres_html = browser.html\n",
    "\n",
    "# Parse the html with Beautiful Soup\n",
    "#\n",
    "mh_soup = BeautifulSoup(hemispheres_html, 'html.parser')\n",
    "\n",
    "# Get all information on Mars hemispheres \n",
    "#\n",
    "items = mh_soup.find_all('div', class_='item')\n",
    "\n",
    "# Create empty list for hemisphere image url for the dictionary to be created later\n",
    "#\n",
    "hemisphere_image_urls = []\n",
    "\n",
    "# Assign variable for main url for astrogeology.usgs.gov\n",
    "#\n",
    "hemispheres_main_url = 'https://astrogeology.usgs.gov'\n",
    "\n",
    "# Loop through each of the items that was previously stored on Mars hemispheres, \n",
    "# store data uisng img_url and title. \n",
    "# create data dictionary and then display list with title and img_url\n",
    "# \n",
    "for i in items: \n",
    "    # Store title\n",
    "    title = i.find('h3').text\n",
    "    \n",
    "    # Get web link for full image \n",
    "    partial_img_url = i.find('a', class_='itemLink product-item')['href']\n",
    "    \n",
    "    # Visit link that contains full image on Mars Hemispheres\n",
    "    #\n",
    "    browser.visit(hemispheres_main_url + partial_img_url)\n",
    "    \n",
    "    # Get html object of individual hemisphere information website \n",
    "    individual_img_html = browser.html\n",
    "    \n",
    "    # Parse through the html with Beautiful Soup for each \n",
    "    # individual hemisphere information \n",
    "    #\n",
    "    soup = BeautifulSoup(individual_img_html, 'html.parser')\n",
    "    \n",
    "    # Get full image source for reporting\n",
    "    #\n",
    "    img_url = hemispheres_main_url + soup.find('img', class_='wide-image')['src']\n",
    "    \n",
    "    # Create \"hemisphere_image_urls\" dictionary by using append() with \n",
    "    # the retreived information in the for loop\n",
    "    #\n",
    "    hemisphere_image_urls.append({\"title\" : title, \"img_url\" : img_url})\n",
    "    \n",
    "\n",
    "# Show Hemisphere Image urls with Title\n",
    "#\n",
    "hemisphere_image_urls"
   ]
  },
  {
   "cell_type": "code",
   "execution_count": null,
   "metadata": {},
   "outputs": [],
   "source": []
  }
 ],
 "metadata": {
  "kernelspec": {
   "display_name": "Python 3",
   "language": "python",
   "name": "python3"
  },
  "language_info": {
   "codemirror_mode": {
    "name": "ipython",
    "version": 3
   },
   "file_extension": ".py",
   "mimetype": "text/x-python",
   "name": "python",
   "nbconvert_exporter": "python",
   "pygments_lexer": "ipython3",
   "version": "3.8.3"
  }
 },
 "nbformat": 4,
 "nbformat_minor": 2
}
